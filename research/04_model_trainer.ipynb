{
 "cells": [
  {
   "cell_type": "code",
   "execution_count": 1,
   "metadata": {
    "ExecuteTime": {
     "end_time": "2023-09-19T17:36:44.667102Z",
     "start_time": "2023-09-19T17:36:44.648743Z"
    }
   },
   "outputs": [],
   "source": [
    "import os"
   ]
  },
  {
   "cell_type": "code",
   "execution_count": 2,
   "metadata": {
    "ExecuteTime": {
     "end_time": "2023-09-19T17:36:45.805911Z",
     "start_time": "2023-09-19T17:36:45.802389Z"
    }
   },
   "outputs": [
    {
     "data": {
      "text/plain": "'/Users/aksshar/PycharmProjects/End-to-end-Machine-Learning-Project-with-MLflow/research'"
     },
     "execution_count": 2,
     "metadata": {},
     "output_type": "execute_result"
    }
   ],
   "source": [
    "%pwd"
   ]
  },
  {
   "cell_type": "code",
   "execution_count": 3,
   "metadata": {
    "ExecuteTime": {
     "end_time": "2023-09-19T17:36:47.769098Z",
     "start_time": "2023-09-19T17:36:47.753892Z"
    }
   },
   "outputs": [],
   "source": [
    "os.chdir(\"../\")"
   ]
  },
  {
   "cell_type": "code",
   "execution_count": 4,
   "metadata": {
    "ExecuteTime": {
     "end_time": "2023-09-19T17:36:49.260101Z",
     "start_time": "2023-09-19T17:36:49.252285Z"
    }
   },
   "outputs": [
    {
     "data": {
      "text/plain": "'/Users/aksshar/PycharmProjects/End-to-end-Machine-Learning-Project-with-MLflow'"
     },
     "execution_count": 4,
     "metadata": {},
     "output_type": "execute_result"
    }
   ],
   "source": [
    "%pwd"
   ]
  },
  {
   "cell_type": "code",
   "execution_count": 32,
   "metadata": {
    "ExecuteTime": {
     "end_time": "2023-09-19T20:32:36.426023Z",
     "start_time": "2023-09-19T20:32:36.412470Z"
    }
   },
   "outputs": [],
   "source": [
    "from dataclasses import dataclass\n",
    "from pathlib import Path\n",
    "\n",
    "\n",
    "@dataclass(frozen=True)\n",
    "class ModelTrainerConfig:\n",
    "    root_dir: Path\n",
    "    train_data_path: Path\n",
    "    test_data_path: Path\n",
    "    model_name: str\n",
    "    target_column: str"
   ]
  },
  {
   "cell_type": "code",
   "execution_count": 33,
   "metadata": {
    "ExecuteTime": {
     "end_time": "2023-09-19T20:32:39.841601Z",
     "start_time": "2023-09-19T20:32:39.836998Z"
    }
   },
   "outputs": [],
   "source": [
    "from mlProject.constants import *\n",
    "from mlProject.utils.common import read_yaml, create_directories"
   ]
  },
  {
   "cell_type": "code",
   "execution_count": 34,
   "metadata": {
    "ExecuteTime": {
     "end_time": "2023-09-19T20:32:42.610145Z",
     "start_time": "2023-09-19T20:32:42.606201Z"
    }
   },
   "outputs": [],
   "source": [
    "class ConfigurationManager:\n",
    "    def __init__(\n",
    "        self,\n",
    "        config_filepath = CONFIG_FILE_PATH,\n",
    "        params_filepath = PARAMS_FILE_PATH,\n",
    "        schema_filepath = SCHEMA_FILE_PATH):\n",
    "\n",
    "        self.config = read_yaml(config_filepath)\n",
    "        self.params = read_yaml(params_filepath)\n",
    "        self.schema = read_yaml(schema_filepath)\n",
    "\n",
    "        create_directories([self.config.artifacts_root])\n",
    "\n",
    "\n",
    "    def get_model_trainer_config(self) -> ModelTrainerConfig:\n",
    "        config = self.config.model_trainer\n",
    "        params = self.params.ElasticNet\n",
    "        schema =  self.schema.TARGET_COLUMN\n",
    "\n",
    "        create_directories([config.root_dir])\n",
    "\n",
    "        model_trainer_config = ModelTrainerConfig(\n",
    "            root_dir=config.root_dir,\n",
    "            train_data_path = config.train_data_path,\n",
    "            test_data_path = config.test_data_path,\n",
    "            model_name = config.model_name,\n",
    "            target_column = schema.name\n",
    "            \n",
    "        )\n",
    "\n",
    "        return model_trainer_config"
   ]
  },
  {
   "cell_type": "code",
   "execution_count": 35,
   "metadata": {
    "ExecuteTime": {
     "end_time": "2023-09-19T20:32:45.671686Z",
     "start_time": "2023-09-19T20:32:45.665628Z"
    }
   },
   "outputs": [],
   "source": [
    "import pandas as pd\n",
    "import os\n",
    "from mlProject import logger\n",
    "import joblib\n",
    "from keras.utils import to_categorical\n",
    "from keras.optimizers import Adam\n",
    "import tensorflow as tf"
   ]
  },
  {
   "cell_type": "code",
   "execution_count": 36,
   "metadata": {
    "ExecuteTime": {
     "end_time": "2023-09-19T20:32:48.563665Z",
     "start_time": "2023-09-19T20:32:48.559379Z"
    }
   },
   "outputs": [],
   "source": [
    "class ModelTrainer:\n",
    "    def __init__(self, config: ModelTrainerConfig):\n",
    "        self.config = config\n",
    "\n",
    "    \n",
    "    def train(self):\n",
    "        train_data = pd.read_csv(self.config.train_data_path)\n",
    "        test_data = pd.read_csv(self.config.test_data_path)\n",
    "\n",
    "\n",
    "        train_x = train_data.drop([self.config.target_column], axis=1)\n",
    "        test_x = test_data.drop([self.config.target_column], axis=1)\n",
    "        train_y = train_data[[self.config.target_column]]\n",
    "        test_y = test_data[[self.config.target_column]]\n",
    "\n",
    "\n",
    "        ann = tf.keras.models.Sequential()\n",
    "        ann.add(tf.keras.layers.Dense(64, activation='relu', input_shape=(train_x.shape[1],)))\n",
    "        ann.add(tf.keras.layers.Dense(32, activation='relu', input_shape=(train_x.shape[1] - 2,)))\n",
    "        ann.add(tf.keras.layers.Dense(10, activation='softmax'))\n",
    "        loss = tf.keras.losses.sparse_categorical_crossentropy\n",
    "        optimizer = tf.keras.optimizers.Adam(learning_rate=0.01)\n",
    "        ann.compile(loss=loss, optimizer=optimizer, metrics=[\"accuracy\"])\n",
    "        ann.fit(train_x, train_y, epochs=5)\n",
    "\n",
    "        ann.save(os.path.join(self.config.root_dir, self.config.model_name))\n"
   ]
  },
  {
   "cell_type": "code",
   "execution_count": 37,
   "metadata": {
    "ExecuteTime": {
     "end_time": "2023-09-19T20:33:04.857338Z",
     "start_time": "2023-09-19T20:32:52.252545Z"
    }
   },
   "outputs": [
    {
     "name": "stdout",
     "output_type": "stream",
     "text": [
      "[2023-09-19 21:32:52,255: INFO: common: yaml file: config/config.yaml loaded successfully]\n",
      "[2023-09-19 21:32:52,257: INFO: common: yaml file: params.yaml loaded successfully]\n",
      "[2023-09-19 21:32:52,260: INFO: common: yaml file: schema.yaml loaded successfully]\n",
      "[2023-09-19 21:32:52,261: INFO: common: created directory at: artifacts]\n",
      "[2023-09-19 21:32:52,262: INFO: common: created directory at: artifacts/model_trainer]\n",
      "[2023-09-19 21:32:52,366: WARNING: optimizer: At this time, the v2.11+ optimizer `tf.keras.optimizers.Adam` runs slowly on M1/M2 Macs, please use the legacy Keras optimizer instead, located at `tf.keras.optimizers.legacy.Adam`.]\n",
      "[2023-09-19 21:32:52,367: WARNING: __init__: There is a known slowdown when using v2.11+ Keras optimizers on M1/M2 Macs. Falling back to the legacy Keras optimizer, i.e., `tf.keras.optimizers.legacy.Adam`.]\n",
      "Epoch 1/5\n",
      "4102/4102 [==============================] - 3s 630us/step - loss: 0.7949 - accuracy: 0.7192\n",
      "Epoch 2/5\n",
      "4102/4102 [==============================] - 2s 592us/step - loss: 0.3862 - accuracy: 0.8585\n",
      "Epoch 3/5\n",
      "4102/4102 [==============================] - 2s 592us/step - loss: 0.3069 - accuracy: 0.8934\n",
      "Epoch 4/5\n",
      "4102/4102 [==============================] - 2s 588us/step - loss: 0.2480 - accuracy: 0.9101\n",
      "Epoch 5/5\n",
      "4102/4102 [==============================] - 2s 587us/step - loss: 0.2456 - accuracy: 0.9117\n"
     ]
    },
    {
     "name": "stderr",
     "output_type": "stream",
     "text": [
      "/Users/aksshar/PycharmProjects/End-to-end-Machine-Learning-Project-with-MLflow/venv/lib/python3.9/site-packages/keras/src/engine/training.py:3000: UserWarning: You are saving your model as an HDF5 file via `model.save()`. This file format is considered legacy. We recommend using instead the native Keras format, e.g. `model.save('my_model.keras')`.\n",
      "  saving_api.save_model(\n"
     ]
    }
   ],
   "source": [
    "try:\n",
    "    config = ConfigurationManager()\n",
    "    model_trainer_config = config.get_model_trainer_config()\n",
    "    model_trainer_config = ModelTrainer(config=model_trainer_config)\n",
    "    model_trainer_config.train()\n",
    "except Exception as e:\n",
    "    raise e"
   ]
  },
  {
   "cell_type": "code",
   "execution_count": 20,
   "metadata": {
    "ExecuteTime": {
     "end_time": "2023-09-19T18:01:14.165632Z",
     "start_time": "2023-09-19T18:01:14.151914Z"
    }
   },
   "outputs": [],
   "source": []
  },
  {
   "cell_type": "code",
   "execution_count": null,
   "outputs": [],
   "source": [],
   "metadata": {
    "collapsed": false
   }
  }
 ],
 "metadata": {
  "kernelspec": {
   "display_name": "mlproj",
   "language": "python",
   "name": "python3"
  },
  "language_info": {
   "codemirror_mode": {
    "name": "ipython",
    "version": 3
   },
   "file_extension": ".py",
   "mimetype": "text/x-python",
   "name": "python",
   "nbconvert_exporter": "python",
   "pygments_lexer": "ipython3",
   "version": "3.8.16"
  },
  "orig_nbformat": 4
 },
 "nbformat": 4,
 "nbformat_minor": 2
}
