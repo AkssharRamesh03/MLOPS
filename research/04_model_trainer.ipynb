{
 "cells": [
  {
   "cell_type": "code",
   "execution_count": 1,
   "metadata": {
    "ExecuteTime": {
     "end_time": "2023-09-19T17:36:44.667102Z",
     "start_time": "2023-09-19T17:36:44.648743Z"
    }
   },
   "outputs": [],
   "source": [
    "import os"
   ]
  },
  {
   "cell_type": "code",
   "execution_count": 2,
   "metadata": {
    "ExecuteTime": {
     "end_time": "2023-09-19T17:36:45.805911Z",
     "start_time": "2023-09-19T17:36:45.802389Z"
    }
   },
   "outputs": [
    {
     "data": {
      "text/plain": "'/Users/aksshar/PycharmProjects/End-to-end-Machine-Learning-Project-with-MLflow/research'"
     },
     "execution_count": 2,
     "metadata": {},
     "output_type": "execute_result"
    }
   ],
   "source": [
    "%pwd"
   ]
  },
  {
   "cell_type": "code",
   "execution_count": 3,
   "metadata": {
    "ExecuteTime": {
     "end_time": "2023-09-19T17:36:47.769098Z",
     "start_time": "2023-09-19T17:36:47.753892Z"
    }
   },
   "outputs": [],
   "source": [
    "os.chdir(\"../\")"
   ]
  },
  {
   "cell_type": "code",
   "execution_count": 4,
   "metadata": {
    "ExecuteTime": {
     "end_time": "2023-09-19T17:36:49.260101Z",
     "start_time": "2023-09-19T17:36:49.252285Z"
    }
   },
   "outputs": [
    {
     "data": {
      "text/plain": "'/Users/aksshar/PycharmProjects/End-to-end-Machine-Learning-Project-with-MLflow'"
     },
     "execution_count": 4,
     "metadata": {},
     "output_type": "execute_result"
    }
   ],
   "source": [
    "%pwd"
   ]
  },
  {
   "cell_type": "code",
   "execution_count": 5,
   "metadata": {
    "ExecuteTime": {
     "end_time": "2023-09-19T17:37:01.227319Z",
     "start_time": "2023-09-19T17:37:01.221375Z"
    }
   },
   "outputs": [],
   "source": [
    "from dataclasses import dataclass\n",
    "from pathlib import Path\n",
    "\n",
    "\n",
    "@dataclass(frozen=True)\n",
    "class ModelTrainerConfig:\n",
    "    root_dir: Path\n",
    "    train_data_path: Path\n",
    "    test_data_path: Path\n",
    "    model_name: str\n",
    "    target_column: str"
   ]
  },
  {
   "cell_type": "code",
   "execution_count": 7,
   "metadata": {
    "ExecuteTime": {
     "end_time": "2023-09-19T17:37:32.636351Z",
     "start_time": "2023-09-19T17:37:32.599723Z"
    }
   },
   "outputs": [],
   "source": [
    "from mlProject.constants import *\n",
    "from mlProject.utils.common import read_yaml, create_directories"
   ]
  },
  {
   "cell_type": "code",
   "execution_count": 12,
   "metadata": {
    "ExecuteTime": {
     "end_time": "2023-09-19T17:44:55.800092Z",
     "start_time": "2023-09-19T17:44:55.779588Z"
    }
   },
   "outputs": [],
   "source": [
    "class ConfigurationManager:\n",
    "    def __init__(\n",
    "        self,\n",
    "        config_filepath = CONFIG_FILE_PATH,\n",
    "        params_filepath = PARAMS_FILE_PATH,\n",
    "        schema_filepath = SCHEMA_FILE_PATH):\n",
    "\n",
    "        self.config = read_yaml(config_filepath)\n",
    "        self.params = read_yaml(params_filepath)\n",
    "        self.schema = read_yaml(schema_filepath)\n",
    "\n",
    "        create_directories([self.config.artifacts_root])\n",
    "\n",
    "\n",
    "    def get_model_trainer_config(self) -> ModelTrainerConfig:\n",
    "        config = self.config.model_trainer\n",
    "        params = self.params.ElasticNet\n",
    "        schema =  self.schema.TARGET_COLUMN\n",
    "\n",
    "        create_directories([config.root_dir])\n",
    "\n",
    "        model_trainer_config = ModelTrainerConfig(\n",
    "            root_dir=config.root_dir,\n",
    "            train_data_path = config.train_data_path,\n",
    "            test_data_path = config.test_data_path,\n",
    "            model_name = config.model_name,\n",
    "            target_column = schema.name\n",
    "            \n",
    "        )\n",
    "\n",
    "        return model_trainer_config"
   ]
  },
  {
   "cell_type": "code",
   "execution_count": 15,
   "metadata": {
    "ExecuteTime": {
     "end_time": "2023-09-19T17:49:14.455640Z",
     "start_time": "2023-09-19T17:49:11.613260Z"
    }
   },
   "outputs": [],
   "source": [
    "import pandas as pd\n",
    "import os\n",
    "from mlProject import logger\n",
    "import joblib\n",
    "import keras\n",
    "from keras.models import Sequential\n",
    "from keras.layers import Dense\n",
    "from keras.utils import to_categorical\n",
    "from keras.optimizers import Adam\n",
    "import tensorflow"
   ]
  },
  {
   "cell_type": "code",
   "execution_count": 21,
   "metadata": {
    "ExecuteTime": {
     "end_time": "2023-09-19T18:01:27.839332Z",
     "start_time": "2023-09-19T18:01:27.834311Z"
    }
   },
   "outputs": [],
   "source": [
    "class ModelTrainer:\n",
    "    def __init__(self, config: ModelTrainerConfig):\n",
    "        self.config = config\n",
    "\n",
    "    \n",
    "    def train(self):\n",
    "        train_data = pd.read_csv(self.config.train_data_path)\n",
    "        test_data = pd.read_csv(self.config.test_data_path)\n",
    "\n",
    "\n",
    "        train_x = train_data.drop([self.config.target_column], axis=1)\n",
    "        test_x = test_data.drop([self.config.target_column], axis=1)\n",
    "        train_y = train_data[[self.config.target_column]]\n",
    "        test_y = test_data[[self.config.target_column]]\n",
    "\n",
    "\n",
    "        ann = Sequential()\n",
    "        ann.add(Dense(64, activation='relu', input_shape=(train_x.shape[1],)))\n",
    "        ann.add(Dense(32, activation='relu', input_shape=(train_x.shape[1] - 2,)))\n",
    "        ann.add(Dense(10, activation='softmax'))\n",
    "        loss = keras.losses.sparse_categorical_crossentropy\n",
    "        optimizer = Adam(lr=0.01)\n",
    "        ann.compile(loss=loss, optimizer=optimizer, metrics=[\"accuracy\"])\n",
    "        ann.fit(train_x, train_y, epochs=5)\n",
    "\n",
    "        joblib.dump(ann, os.path.join(self.config.root_dir, self.config.model_name))\n",
    "\n"
   ]
  },
  {
   "cell_type": "code",
   "execution_count": 22,
   "metadata": {
    "ExecuteTime": {
     "end_time": "2023-09-19T18:01:42.818196Z",
     "start_time": "2023-09-19T18:01:30.370677Z"
    }
   },
   "outputs": [
    {
     "name": "stdout",
     "output_type": "stream",
     "text": [
      "[2023-09-19 19:01:30,374: INFO: common: yaml file: config/config.yaml loaded successfully]\n",
      "[2023-09-19 19:01:30,376: INFO: common: yaml file: params.yaml loaded successfully]\n",
      "[2023-09-19 19:01:30,379: INFO: common: yaml file: schema.yaml loaded successfully]\n",
      "[2023-09-19 19:01:30,380: INFO: common: created directory at: artifacts]\n",
      "[2023-09-19 19:01:30,381: INFO: common: created directory at: artifacts/model_trainer]\n",
      "[2023-09-19 19:01:30,466: WARNING: optimizer: At this time, the v2.11+ optimizer `tf.keras.optimizers.Adam` runs slowly on M1/M2 Macs, please use the legacy Keras optimizer instead, located at `tf.keras.optimizers.legacy.Adam`.]\n",
      "[2023-09-19 19:01:30,467: WARNING: optimizer: `lr` is deprecated in Keras optimizer, please use `learning_rate` or use the legacy optimizer, e.g.,tf.keras.optimizers.legacy.Adam.]\n",
      "[2023-09-19 19:01:30,468: WARNING: __init__: There is a known slowdown when using v2.11+ Keras optimizers on M1/M2 Macs. Falling back to the legacy Keras optimizer, i.e., `tf.keras.optimizers.legacy.Adam`.]\n",
      "Epoch 1/5\n",
      "4102/4102 [==============================] - 3s 595us/step - loss: 0.8913 - accuracy: 0.7075\n",
      "Epoch 2/5\n",
      "4102/4102 [==============================] - 2s 592us/step - loss: 0.4550 - accuracy: 0.8316\n",
      "Epoch 3/5\n",
      "4102/4102 [==============================] - 2s 590us/step - loss: 0.2818 - accuracy: 0.8943\n",
      "Epoch 4/5\n",
      "4102/4102 [==============================] - 2s 587us/step - loss: 0.1828 - accuracy: 0.9329\n",
      "Epoch 5/5\n",
      "4102/4102 [==============================] - 2s 594us/step - loss: 0.1275 - accuracy: 0.9555\n"
     ]
    }
   ],
   "source": [
    "try:\n",
    "    config = ConfigurationManager()\n",
    "    model_trainer_config = config.get_model_trainer_config()\n",
    "    model_trainer_config = ModelTrainer(config=model_trainer_config)\n",
    "    model_trainer_config.train()\n",
    "except Exception as e:\n",
    "    raise e"
   ]
  },
  {
   "cell_type": "code",
   "execution_count": 20,
   "metadata": {
    "ExecuteTime": {
     "end_time": "2023-09-19T18:01:14.165632Z",
     "start_time": "2023-09-19T18:01:14.151914Z"
    }
   },
   "outputs": [],
   "source": []
  },
  {
   "cell_type": "code",
   "execution_count": null,
   "outputs": [],
   "source": [],
   "metadata": {
    "collapsed": false
   }
  }
 ],
 "metadata": {
  "kernelspec": {
   "display_name": "mlproj",
   "language": "python",
   "name": "python3"
  },
  "language_info": {
   "codemirror_mode": {
    "name": "ipython",
    "version": 3
   },
   "file_extension": ".py",
   "mimetype": "text/x-python",
   "name": "python",
   "nbconvert_exporter": "python",
   "pygments_lexer": "ipython3",
   "version": "3.8.16"
  },
  "orig_nbformat": 4
 },
 "nbformat": 4,
 "nbformat_minor": 2
}
