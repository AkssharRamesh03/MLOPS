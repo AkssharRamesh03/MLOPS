{
 "cells": [
  {
   "cell_type": "code",
   "execution_count": 1,
   "metadata": {
    "ExecuteTime": {
     "end_time": "2023-09-19T20:47:17.451596Z",
     "start_time": "2023-09-19T20:47:17.441023Z"
    }
   },
   "outputs": [],
   "source": [
    "import os"
   ]
  },
  {
   "cell_type": "code",
   "execution_count": 2,
   "metadata": {
    "ExecuteTime": {
     "end_time": "2023-09-19T20:47:18.440524Z",
     "start_time": "2023-09-19T20:47:18.436953Z"
    }
   },
   "outputs": [
    {
     "data": {
      "text/plain": "'/Users/aksshar/PycharmProjects/End-to-end-Machine-Learning-Project-with-MLflow/research'"
     },
     "execution_count": 2,
     "metadata": {},
     "output_type": "execute_result"
    }
   ],
   "source": [
    "%pwd"
   ]
  },
  {
   "cell_type": "code",
   "execution_count": 3,
   "metadata": {
    "ExecuteTime": {
     "end_time": "2023-09-19T20:47:19.629116Z",
     "start_time": "2023-09-19T20:47:19.625524Z"
    }
   },
   "outputs": [],
   "source": [
    "os.chdir(\"../\")"
   ]
  },
  {
   "cell_type": "code",
   "execution_count": 4,
   "metadata": {
    "ExecuteTime": {
     "end_time": "2023-09-19T20:47:20.260516Z",
     "start_time": "2023-09-19T20:47:20.257506Z"
    }
   },
   "outputs": [
    {
     "data": {
      "text/plain": "'/Users/aksshar/PycharmProjects/End-to-end-Machine-Learning-Project-with-MLflow'"
     },
     "execution_count": 4,
     "metadata": {},
     "output_type": "execute_result"
    }
   ],
   "source": [
    "%pwd"
   ]
  },
  {
   "cell_type": "code",
   "execution_count": 5,
   "metadata": {
    "ExecuteTime": {
     "end_time": "2023-09-19T20:47:20.728539Z",
     "start_time": "2023-09-19T20:47:20.725210Z"
    }
   },
   "outputs": [],
   "source": [
    "os.environ[\"MLFLOW_TRACKING_URI\"]=\"https://dagshub.com/rmshakshar/MLOPS.mlflow\"\n",
    "os.environ[\"MLFLOW_TRACKING_USERNAME\"]=\"rmshakshar\"\n",
    "os.environ[\"MLFLOW_TRACKING_PASSWORD\"]=\"6e629236b7cbf69bf62c1be489698092e77ba87e\""
   ]
  },
  {
   "cell_type": "code",
   "execution_count": 6,
   "metadata": {
    "ExecuteTime": {
     "end_time": "2023-09-19T20:47:21.335403Z",
     "start_time": "2023-09-19T20:47:21.332961Z"
    }
   },
   "outputs": [],
   "source": [
    "from dataclasses import dataclass\n",
    "from pathlib import Path\n",
    "\n",
    "\n",
    "@dataclass(frozen=True)\n",
    "class ModelEvaluationConfig:\n",
    "    root_dir: Path\n",
    "    test_data_path: Path\n",
    "    model_path: Path\n",
    "    metric_file_name: Path\n",
    "    target_column: str\n",
    "    mlflow_uri: str\n"
   ]
  },
  {
   "cell_type": "code",
   "execution_count": 7,
   "metadata": {
    "ExecuteTime": {
     "end_time": "2023-09-19T20:47:22.470706Z",
     "start_time": "2023-09-19T20:47:22.252586Z"
    }
   },
   "outputs": [],
   "source": [
    "from mlProject.constants import *\n",
    "from mlProject.utils.common import read_yaml, create_directories, save_json"
   ]
  },
  {
   "cell_type": "code",
   "execution_count": 8,
   "metadata": {
    "ExecuteTime": {
     "end_time": "2023-09-19T20:47:23.207372Z",
     "start_time": "2023-09-19T20:47:23.204987Z"
    }
   },
   "outputs": [],
   "source": [
    "class ConfigurationManager:\n",
    "    def __init__(\n",
    "        self,\n",
    "        config_filepath = CONFIG_FILE_PATH,\n",
    "        params_filepath = PARAMS_FILE_PATH,\n",
    "        schema_filepath = SCHEMA_FILE_PATH):\n",
    "\n",
    "        self.config = read_yaml(config_filepath)\n",
    "        self.params = read_yaml(params_filepath)\n",
    "        self.schema = read_yaml(schema_filepath)\n",
    "\n",
    "        create_directories([self.config.artifacts_root])\n",
    "\n",
    "    \n",
    "    def get_model_evaluation_config(self) -> ModelEvaluationConfig:\n",
    "        config = self.config.model_evaluation\n",
    "        schema =  self.schema.TARGET_COLUMN\n",
    "\n",
    "        create_directories([config.root_dir])\n",
    "\n",
    "        model_evaluation_config = ModelEvaluationConfig(\n",
    "            root_dir=config.root_dir,\n",
    "            test_data_path=config.test_data_path,\n",
    "            model_path = config.model_path,\n",
    "            metric_file_name = config.metric_file_name,\n",
    "            target_column = schema.name,\n",
    "            mlflow_uri=\"https://dagshub.com/rmshakshar/MLOPS.mlflow\",\n",
    "           \n",
    "        )\n",
    "\n",
    "        return model_evaluation_config\n"
   ]
  },
  {
   "cell_type": "code",
   "execution_count": 9,
   "metadata": {
    "ExecuteTime": {
     "end_time": "2023-09-19T20:47:29.108645Z",
     "start_time": "2023-09-19T20:47:24.784777Z"
    }
   },
   "outputs": [],
   "source": [
    "import os\n",
    "import pandas as pd\n",
    "from sklearn.metrics import mean_squared_error, mean_absolute_error, r2_score\n",
    "from urllib.parse import urlparse\n",
    "import mlflow\n",
    "import mlflow.sklearn\n",
    "import numpy as np\n",
    "import joblib\n",
    "import tensorflow\n",
    "from tensorflow.keras.models import load_model\n"
   ]
  },
  {
   "cell_type": "code",
   "execution_count": 14,
   "metadata": {
    "ExecuteTime": {
     "end_time": "2023-09-19T20:49:23.391004Z",
     "start_time": "2023-09-19T20:49:23.385935Z"
    }
   },
   "outputs": [],
   "source": [
    "class ModelEvaluation:\n",
    "    def __init__(self, config: ModelEvaluationConfig):\n",
    "        self.config = config\n",
    "\n",
    "    \n",
    "    def eval_metrics(self,actual, pred):\n",
    "        rmse = np.sqrt(mean_squared_error(actual, pred))\n",
    "        mae = mean_absolute_error(actual, pred)\n",
    "        r2 = r2_score(actual, pred)\n",
    "        return rmse, mae, r2\n",
    "    \n",
    "\n",
    "\n",
    "    def log_into_mlflow(self):\n",
    "\n",
    "        test_data = pd.read_csv(self.config.test_data_path)\n",
    "        print(\"load start\")\n",
    "        model = load_model(self.config.model_path)\n",
    "        print(\"load complete\")\n",
    "        test_x = test_data.drop([self.config.target_column], axis=1)\n",
    "        test_y = test_data[[self.config.target_column]]\n",
    "\n",
    "\n",
    "        mlflow.set_registry_uri(self.config.mlflow_uri)\n",
    "        tracking_url_type_store = urlparse(mlflow.get_tracking_uri()).scheme\n",
    "\n",
    "\n",
    "        with mlflow.start_run():\n",
    "            print(\"predict\")\n",
    "            predicted_qualities = model.predict(test_x)\n",
    "\n",
    "            (rmse, mae, r2) = self.eval_metrics(test_y, predicted_qualities)\n",
    "            \n",
    "            # Saving metrics as local\n",
    "            scores = {\"rmse\": rmse, \"mae\": mae, \"r2\": r2}\n",
    "            save_json(path=Path(self.config.metric_file_name), data=scores)\n",
    "\n",
    "\n",
    "            mlflow.log_metric(\"rmse\", rmse)\n",
    "            mlflow.log_metric(\"r2\", r2)\n",
    "            mlflow.log_metric(\"mae\", mae)\n",
    "\n",
    "\n",
    "            # Model registry does not work with file store\n",
    "            if tracking_url_type_store != \"file\":\n",
    "\n",
    "                # Register the model\n",
    "                # There are other ways to use the Model Registry, which depends on the use case,\n",
    "                # please refer to the doc for more information:\n",
    "                # https://mlflow.org/docs/latest/model-registry.html#api-workflow\n",
    "                mlflow.sklearn.log_model(model, \"model\", registered_model_name=\"Artificial neural network\")\n",
    "            else:\n",
    "                mlflow.sklearn.log_model(model, \"model\")\n",
    "\n",
    "    \n"
   ]
  },
  {
   "cell_type": "code",
   "execution_count": 15,
   "metadata": {
    "ExecuteTime": {
     "end_time": "2023-09-19T20:49:41.750729Z",
     "start_time": "2023-09-19T20:49:24.940504Z"
    }
   },
   "outputs": [
    {
     "name": "stdout",
     "output_type": "stream",
     "text": [
      "[2023-09-19 21:49:24,944: INFO: common: yaml file: config/config.yaml loaded successfully]\n",
      "[2023-09-19 21:49:24,948: INFO: common: yaml file: params.yaml loaded successfully]\n",
      "[2023-09-19 21:49:24,950: INFO: common: yaml file: schema.yaml loaded successfully]\n",
      "[2023-09-19 21:49:24,951: INFO: common: created directory at: artifacts]\n",
      "[2023-09-19 21:49:24,952: INFO: common: created directory at: artifacts/model_evaluation]\n",
      "load start\n",
      "load complete\n",
      "predict\n",
      "1368/1368 [==============================] - 1s 441us/step\n",
      "shape:  [[8.6045256e-19 0.0000000e+00 3.4570044e-37 ... 2.6305123e-37\n",
      "  0.0000000e+00 2.7162474e-32]\n",
      " [4.5749075e-27 4.2636823e-04 2.5659722e-16 ... 1.2402303e-18\n",
      "  3.0032235e-12 3.1261023e-22]\n",
      " [6.5692754e-27 9.9111861e-01 9.3573380e-13 ... 7.9998356e-20\n",
      "  1.9463632e-06 1.9035029e-18]\n",
      " ...\n",
      " [1.0890216e-11 2.4923912e-11 2.3531585e-12 ... 1.2084220e-05\n",
      "  1.5504258e-16 2.0946501e-17]\n",
      " [2.2908369e-24 1.9142534e-04 3.5654874e-15 ... 2.6485121e-16\n",
      "  3.7583478e-12 5.8389415e-21]\n",
      " [1.0000000e+00 0.0000000e+00 1.1376711e-21 ... 4.2835357e-11\n",
      "  0.0000000e+00 1.2096312e-22]]\n",
      "[2023-09-19 21:49:26,138: INFO: common: json file saved at: artifacts/model_evaluation/metrics.json]\n"
     ]
    },
    {
     "name": "stderr",
     "output_type": "stream",
     "text": [
      "2023/09/19 21:49:30 WARNING mlflow.utils.environment: Encountered an unexpected error while inferring pip requirements (model URI: /var/folders/tx/7df2_9m92_74rf9f7px2j44r0000gn/T/tmpv1e9ajsd/model/model.pkl, flavor: sklearn), fall back to return ['scikit-learn==1.3.0', 'cloudpickle==2.2.1']. Set logging level to DEBUG to see the full traceback.\n",
      "/Users/aksshar/PycharmProjects/End-to-end-Machine-Learning-Project-with-MLflow/venv/lib/python3.9/site-packages/_distutils_hack/__init__.py:33: UserWarning: Setuptools is replacing distutils.\n",
      "  warnings.warn(\"Setuptools is replacing distutils.\")\n",
      "Successfully registered model 'Artificial neural network'.\n",
      "2023/09/19 21:49:41 INFO mlflow.tracking._model_registry.client: Waiting up to 300 seconds for model version to finish creation.                     Model name: Artificial neural network, version 1\n",
      "Created version '1' of model 'Artificial neural network'.\n"
     ]
    }
   ],
   "source": [
    "try:\n",
    "    config = ConfigurationManager()\n",
    "    model_evaluation_config = config.get_model_evaluation_config()\n",
    "    model_evaluation_config = ModelEvaluation(config=model_evaluation_config)\n",
    "    model_evaluation_config.log_into_mlflow()\n",
    "except Exception as e:\n",
    "    raise e"
   ]
  },
  {
   "cell_type": "code",
   "execution_count": null,
   "metadata": {},
   "outputs": [],
   "source": []
  }
 ],
 "metadata": {
  "kernelspec": {
   "name": "python3",
   "language": "python",
   "display_name": "Python 3 (ipykernel)"
  },
  "language_info": {
   "codemirror_mode": {
    "name": "ipython",
    "version": 3
   },
   "file_extension": ".py",
   "mimetype": "text/x-python",
   "name": "python",
   "nbconvert_exporter": "python",
   "pygments_lexer": "ipython3",
   "version": "3.8.16"
  },
  "orig_nbformat": 4
 },
 "nbformat": 4,
 "nbformat_minor": 2
}
