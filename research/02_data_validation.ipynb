{
 "cells": [
  {
   "cell_type": "code",
   "execution_count": 1,
   "metadata": {
    "ExecuteTime": {
     "end_time": "2023-09-19T16:32:10.574180Z",
     "start_time": "2023-09-19T16:32:10.571901Z"
    }
   },
   "outputs": [],
   "source": [
    "import os"
   ]
  },
  {
   "cell_type": "code",
   "execution_count": 2,
   "metadata": {
    "ExecuteTime": {
     "end_time": "2023-09-19T16:32:13.767775Z",
     "start_time": "2023-09-19T16:32:13.763936Z"
    }
   },
   "outputs": [
    {
     "data": {
      "text/plain": "'/Users/aksshar/PycharmProjects/End-to-end-Machine-Learning-Project-with-MLflow/research'"
     },
     "execution_count": 2,
     "metadata": {},
     "output_type": "execute_result"
    }
   ],
   "source": [
    "%pwd"
   ]
  },
  {
   "cell_type": "code",
   "execution_count": 3,
   "metadata": {
    "ExecuteTime": {
     "end_time": "2023-09-19T16:32:18.933746Z",
     "start_time": "2023-09-19T16:32:18.928292Z"
    }
   },
   "outputs": [],
   "source": [
    "os.chdir(\"../\")"
   ]
  },
  {
   "cell_type": "code",
   "execution_count": 4,
   "metadata": {
    "ExecuteTime": {
     "end_time": "2023-09-19T16:32:21.342916Z",
     "start_time": "2023-09-19T16:32:21.337627Z"
    }
   },
   "outputs": [
    {
     "data": {
      "text/plain": "'/Users/aksshar/PycharmProjects/End-to-end-Machine-Learning-Project-with-MLflow'"
     },
     "execution_count": 4,
     "metadata": {},
     "output_type": "execute_result"
    }
   ],
   "source": [
    "%pwd"
   ]
  },
  {
   "cell_type": "code",
   "execution_count": 5,
   "metadata": {
    "ExecuteTime": {
     "end_time": "2023-09-19T16:32:25.308099Z",
     "start_time": "2023-09-19T16:32:24.747510Z"
    }
   },
   "outputs": [],
   "source": [
    "import pandas as pd"
   ]
  },
  {
   "cell_type": "code",
   "execution_count": 6,
   "metadata": {
    "ExecuteTime": {
     "end_time": "2023-09-19T16:32:37.029518Z",
     "start_time": "2023-09-19T16:32:36.934893Z"
    }
   },
   "outputs": [
    {
     "data": {
      "text/plain": "   CUSCODE  ITEMCODE  SALEQTY  SHOPCODE  SALEAMNT  MASTERITEMCODE  \\\n0   465339    244860        6        47     11.39            1854   \n1   694510    244860        8        18     15.19            1854   \n2   296440    244860       12        36     22.78            1854   \n3   902877    244860        1        12      1.90            1854   \n4   306992    244860        2        24      3.80            1854   \n\n   SUPPLIERCODE  CAT1CODE  CAT2CODE  CAT3CODE  BUYERCODE  PROFCODE  \\\n0           285        20        10         9         15         3   \n1           285        20        10         9         15         3   \n2           285        20        10         9         15         3   \n3           285        20        10         9         15         2   \n4           285        20        10         9         15         4   \n\n   GROUPPROFCODE  profile  \n0              2        1  \n1              2        1  \n2              2        1  \n3              3        1  \n4              2        1  ",
      "text/html": "<div>\n<style scoped>\n    .dataframe tbody tr th:only-of-type {\n        vertical-align: middle;\n    }\n\n    .dataframe tbody tr th {\n        vertical-align: top;\n    }\n\n    .dataframe thead th {\n        text-align: right;\n    }\n</style>\n<table border=\"1\" class=\"dataframe\">\n  <thead>\n    <tr style=\"text-align: right;\">\n      <th></th>\n      <th>CUSCODE</th>\n      <th>ITEMCODE</th>\n      <th>SALEQTY</th>\n      <th>SHOPCODE</th>\n      <th>SALEAMNT</th>\n      <th>MASTERITEMCODE</th>\n      <th>SUPPLIERCODE</th>\n      <th>CAT1CODE</th>\n      <th>CAT2CODE</th>\n      <th>CAT3CODE</th>\n      <th>BUYERCODE</th>\n      <th>PROFCODE</th>\n      <th>GROUPPROFCODE</th>\n      <th>profile</th>\n    </tr>\n  </thead>\n  <tbody>\n    <tr>\n      <th>0</th>\n      <td>465339</td>\n      <td>244860</td>\n      <td>6</td>\n      <td>47</td>\n      <td>11.39</td>\n      <td>1854</td>\n      <td>285</td>\n      <td>20</td>\n      <td>10</td>\n      <td>9</td>\n      <td>15</td>\n      <td>3</td>\n      <td>2</td>\n      <td>1</td>\n    </tr>\n    <tr>\n      <th>1</th>\n      <td>694510</td>\n      <td>244860</td>\n      <td>8</td>\n      <td>18</td>\n      <td>15.19</td>\n      <td>1854</td>\n      <td>285</td>\n      <td>20</td>\n      <td>10</td>\n      <td>9</td>\n      <td>15</td>\n      <td>3</td>\n      <td>2</td>\n      <td>1</td>\n    </tr>\n    <tr>\n      <th>2</th>\n      <td>296440</td>\n      <td>244860</td>\n      <td>12</td>\n      <td>36</td>\n      <td>22.78</td>\n      <td>1854</td>\n      <td>285</td>\n      <td>20</td>\n      <td>10</td>\n      <td>9</td>\n      <td>15</td>\n      <td>3</td>\n      <td>2</td>\n      <td>1</td>\n    </tr>\n    <tr>\n      <th>3</th>\n      <td>902877</td>\n      <td>244860</td>\n      <td>1</td>\n      <td>12</td>\n      <td>1.90</td>\n      <td>1854</td>\n      <td>285</td>\n      <td>20</td>\n      <td>10</td>\n      <td>9</td>\n      <td>15</td>\n      <td>2</td>\n      <td>3</td>\n      <td>1</td>\n    </tr>\n    <tr>\n      <th>4</th>\n      <td>306992</td>\n      <td>244860</td>\n      <td>2</td>\n      <td>24</td>\n      <td>3.80</td>\n      <td>1854</td>\n      <td>285</td>\n      <td>20</td>\n      <td>10</td>\n      <td>9</td>\n      <td>15</td>\n      <td>4</td>\n      <td>2</td>\n      <td>1</td>\n    </tr>\n  </tbody>\n</table>\n</div>"
     },
     "execution_count": 6,
     "metadata": {},
     "output_type": "execute_result"
    }
   ],
   "source": [
    "data = pd.read_csv(\"artifacts/data_ingestion/tango_data.csv\")\n",
    "data.head()"
   ]
  },
  {
   "cell_type": "code",
   "execution_count": 7,
   "metadata": {
    "ExecuteTime": {
     "end_time": "2023-09-19T16:36:55.382168Z",
     "start_time": "2023-09-19T16:36:55.361869Z"
    }
   },
   "outputs": [
    {
     "name": "stdout",
     "output_type": "stream",
     "text": [
      "<class 'pandas.core.frame.DataFrame'>\n",
      "RangeIndex: 175010 entries, 0 to 175009\n",
      "Data columns (total 14 columns):\n",
      " #   Column          Non-Null Count   Dtype  \n",
      "---  ------          --------------   -----  \n",
      " 0   CUSCODE         175010 non-null  int64  \n",
      " 1   ITEMCODE        175010 non-null  int64  \n",
      " 2   SALEQTY         175010 non-null  int64  \n",
      " 3   SHOPCODE        175010 non-null  int64  \n",
      " 4   SALEAMNT        175010 non-null  float64\n",
      " 5   MASTERITEMCODE  175010 non-null  int64  \n",
      " 6   SUPPLIERCODE    175010 non-null  int64  \n",
      " 7   CAT1CODE        175010 non-null  int64  \n",
      " 8   CAT2CODE        175010 non-null  int64  \n",
      " 9   CAT3CODE        175010 non-null  int64  \n",
      " 10  BUYERCODE       175010 non-null  int64  \n",
      " 11  PROFCODE        175010 non-null  int64  \n",
      " 12  GROUPPROFCODE   175010 non-null  int64  \n",
      " 13  profile         175010 non-null  int64  \n",
      "dtypes: float64(1), int64(13)\n",
      "memory usage: 18.7 MB\n"
     ]
    }
   ],
   "source": [
    "data.info()"
   ]
  },
  {
   "cell_type": "code",
   "execution_count": 8,
   "metadata": {
    "ExecuteTime": {
     "end_time": "2023-09-19T16:37:29.944962Z",
     "start_time": "2023-09-19T16:37:29.938184Z"
    }
   },
   "outputs": [
    {
     "data": {
      "text/plain": "CUSCODE           0\nITEMCODE          0\nSALEQTY           0\nSHOPCODE          0\nSALEAMNT          0\nMASTERITEMCODE    0\nSUPPLIERCODE      0\nCAT1CODE          0\nCAT2CODE          0\nCAT3CODE          0\nBUYERCODE         0\nPROFCODE          0\nGROUPPROFCODE     0\nprofile           0\ndtype: int64"
     },
     "execution_count": 8,
     "metadata": {},
     "output_type": "execute_result"
    }
   ],
   "source": [
    "data.isnull().sum()"
   ]
  },
  {
   "cell_type": "code",
   "execution_count": 9,
   "metadata": {
    "ExecuteTime": {
     "end_time": "2023-09-19T16:37:45.230444Z",
     "start_time": "2023-09-19T16:37:45.221713Z"
    }
   },
   "outputs": [
    {
     "data": {
      "text/plain": "(175010, 14)"
     },
     "execution_count": 9,
     "metadata": {},
     "output_type": "execute_result"
    }
   ],
   "source": [
    "data.shape"
   ]
  },
  {
   "cell_type": "code",
   "execution_count": 10,
   "metadata": {
    "ExecuteTime": {
     "end_time": "2023-09-19T16:37:49.023670Z",
     "start_time": "2023-09-19T16:37:49.020694Z"
    }
   },
   "outputs": [
    {
     "data": {
      "text/plain": "Index(['CUSCODE', 'ITEMCODE', 'SALEQTY', 'SHOPCODE', 'SALEAMNT',\n       'MASTERITEMCODE', 'SUPPLIERCODE', 'CAT1CODE', 'CAT2CODE', 'CAT3CODE',\n       'BUYERCODE', 'PROFCODE', 'GROUPPROFCODE', 'profile'],\n      dtype='object')"
     },
     "execution_count": 10,
     "metadata": {},
     "output_type": "execute_result"
    }
   ],
   "source": [
    "data.columns"
   ]
  },
  {
   "cell_type": "code",
   "execution_count": 11,
   "metadata": {
    "ExecuteTime": {
     "end_time": "2023-09-19T17:08:52.262877Z",
     "start_time": "2023-09-19T17:08:52.261060Z"
    }
   },
   "outputs": [],
   "source": [
    "from dataclasses import dataclass\n",
    "from pathlib import Path\n",
    "\n",
    "\n",
    "@dataclass(frozen=True)\n",
    "class DataValidationConfig:\n",
    "    root_dir: Path\n",
    "    STATUS_FILE: str\n",
    "    unzip_data_dir: Path\n",
    "    all_schema: dict"
   ]
  },
  {
   "cell_type": "code",
   "execution_count": 12,
   "metadata": {
    "ExecuteTime": {
     "end_time": "2023-09-19T17:08:55.921819Z",
     "start_time": "2023-09-19T17:08:55.873524Z"
    }
   },
   "outputs": [],
   "source": [
    "from mlProject.constants import *\n",
    "from mlProject.utils.common import read_yaml, create_directories"
   ]
  },
  {
   "cell_type": "code",
   "execution_count": 13,
   "metadata": {
    "ExecuteTime": {
     "end_time": "2023-09-19T17:09:01.925969Z",
     "start_time": "2023-09-19T17:09:01.919927Z"
    }
   },
   "outputs": [],
   "source": [
    "class ConfigurationManager:\n",
    "    def __init__(\n",
    "        self,\n",
    "        config_filepath = CONFIG_FILE_PATH,\n",
    "        params_filepath = PARAMS_FILE_PATH,\n",
    "        schema_filepath = SCHEMA_FILE_PATH):\n",
    "\n",
    "        self.config = read_yaml(config_filepath)\n",
    "        self.params = read_yaml(params_filepath)\n",
    "        self.schema = read_yaml(schema_filepath)\n",
    "\n",
    "        create_directories([self.config.artifacts_root])\n",
    "\n",
    "\n",
    "    \n",
    "    def get_data_validation_config(self) -> DataValidationConfig:\n",
    "        config = self.config.data_validation\n",
    "        schema = self.schema.COLUMNS\n",
    "\n",
    "        create_directories([config.root_dir])\n",
    "\n",
    "        data_validation_config = DataValidationConfig(\n",
    "            root_dir=config.root_dir,\n",
    "            STATUS_FILE=config.STATUS_FILE,\n",
    "            unzip_data_dir = config.unzip_data_dir,\n",
    "            all_schema=schema,\n",
    "        )\n",
    "\n",
    "        return data_validation_config"
   ]
  },
  {
   "cell_type": "code",
   "execution_count": 14,
   "metadata": {
    "ExecuteTime": {
     "end_time": "2023-09-19T17:09:05.538147Z",
     "start_time": "2023-09-19T17:09:05.533120Z"
    }
   },
   "outputs": [],
   "source": [
    "import os\n",
    "from mlProject import logger"
   ]
  },
  {
   "cell_type": "code",
   "execution_count": 15,
   "metadata": {
    "ExecuteTime": {
     "end_time": "2023-09-19T17:09:08.952293Z",
     "start_time": "2023-09-19T17:09:08.949617Z"
    }
   },
   "outputs": [],
   "source": [
    "class DataValiadtion:\n",
    "    def __init__(self, config: DataValidationConfig):\n",
    "        self.config = config\n",
    "\n",
    "\n",
    "    def validate_all_columns(self)-> bool:\n",
    "        try:\n",
    "            validation_status = None\n",
    "\n",
    "            data = pd.read_csv(self.config.unzip_data_dir)\n",
    "            all_cols = list(data.columns)\n",
    "\n",
    "            all_schema = self.config.all_schema.keys()\n",
    "\n",
    "            \n",
    "            for col in all_cols:\n",
    "                if col not in all_schema:\n",
    "                    validation_status = False\n",
    "                    with open(self.config.STATUS_FILE, 'w') as f:\n",
    "                        f.write(f\"Validation status: {validation_status}\")\n",
    "                else:\n",
    "                    validation_status = True\n",
    "                    with open(self.config.STATUS_FILE, 'w') as f:\n",
    "                        f.write(f\"Validation status: {validation_status}\")\n",
    "\n",
    "            return validation_status\n",
    "        \n",
    "        except Exception as e:\n",
    "            raise e\n",
    "\n"
   ]
  },
  {
   "cell_type": "code",
   "execution_count": 17,
   "metadata": {
    "ExecuteTime": {
     "end_time": "2023-09-19T17:57:16.868243Z",
     "start_time": "2023-09-19T17:57:16.790312Z"
    }
   },
   "outputs": [
    {
     "name": "stdout",
     "output_type": "stream",
     "text": [
      "[2023-09-19 18:57:16,793: INFO: common: yaml file: config/config.yaml loaded successfully]\n",
      "[2023-09-19 18:57:16,796: INFO: common: yaml file: params.yaml loaded successfully]\n",
      "[2023-09-19 18:57:16,799: INFO: common: yaml file: schema.yaml loaded successfully]\n",
      "[2023-09-19 18:57:16,800: INFO: common: created directory at: artifacts]\n",
      "[2023-09-19 18:57:16,801: INFO: common: created directory at: artifacts/data_validation]\n"
     ]
    }
   ],
   "source": [
    "try:\n",
    "    config = ConfigurationManager()\n",
    "    data_validation_config = config.get_data_validation_config()\n",
    "    data_validation = DataValiadtion(config=data_validation_config)\n",
    "    data_validation.validate_all_columns()\n",
    "except Exception as e:\n",
    "    raise e"
   ]
  },
  {
   "cell_type": "code",
   "execution_count": null,
   "metadata": {},
   "outputs": [],
   "source": []
  }
 ],
 "metadata": {
  "kernelspec": {
   "display_name": "mlproj",
   "language": "python",
   "name": "python3"
  },
  "language_info": {
   "codemirror_mode": {
    "name": "ipython",
    "version": 3
   },
   "file_extension": ".py",
   "mimetype": "text/x-python",
   "name": "python",
   "nbconvert_exporter": "python",
   "pygments_lexer": "ipython3",
   "version": "3.8.16"
  },
  "orig_nbformat": 4
 },
 "nbformat": 4,
 "nbformat_minor": 2
}
